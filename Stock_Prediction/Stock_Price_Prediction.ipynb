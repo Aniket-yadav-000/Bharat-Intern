{
 "cells": [
  {
   "cell_type": "code",
   "execution_count": 25,
   "metadata": {},
   "outputs": [],
   "source": [
    "#Importing the Libraries\n",
    "import pandas as pd\n",
    "import numpy as np\n",
    "%matplotlib inline\n",
    "import matplotlib. pyplot as plt\n",
    "import matplotlib\n",
    "from sklearn.preprocessing import MinMaxScaler\n",
    "import tensorflow as tf\n",
    "from keras.layers import LSTM, Dense, Dropout\n",
    "from sklearn.model_selection import TimeSeriesSplit\n",
    "from sklearn.metrics import mean_squared_error, r2_score\n",
    "import matplotlib. dates as mandates\n",
    "from sklearn.preprocessing import MinMaxScaler\n",
    "from sklearn import linear_model\n",
    "from keras.models import Sequential\n",
    "from keras.layers import Dense\n",
    "import keras.backend as K\n",
    "from keras.callbacks import EarlyStopping\n",
    "from keras.optimizers import Adam\n",
    "from keras.models import load_model\n",
    "from keras.layers import LSTM\n",
    "from keras.utils import plot_model"
   ]
  },
  {
   "cell_type": "code",
   "execution_count": 8,
   "metadata": {},
   "outputs": [
    {
     "data": {
      "text/html": [
       "<div>\n",
       "<style scoped>\n",
       "    .dataframe tbody tr th:only-of-type {\n",
       "        vertical-align: middle;\n",
       "    }\n",
       "\n",
       "    .dataframe tbody tr th {\n",
       "        vertical-align: top;\n",
       "    }\n",
       "\n",
       "    .dataframe thead th {\n",
       "        text-align: right;\n",
       "    }\n",
       "</style>\n",
       "<table border=\"1\" class=\"dataframe\">\n",
       "  <thead>\n",
       "    <tr style=\"text-align: right;\">\n",
       "      <th></th>\n",
       "      <th>Date</th>\n",
       "      <th>Open</th>\n",
       "      <th>High</th>\n",
       "      <th>Low</th>\n",
       "      <th>Close</th>\n",
       "      <th>Adj Close</th>\n",
       "      <th>Volume</th>\n",
       "    </tr>\n",
       "  </thead>\n",
       "  <tbody>\n",
       "    <tr>\n",
       "      <th>0</th>\n",
       "      <td>1986-03-13</td>\n",
       "      <td>0.088542</td>\n",
       "      <td>0.101563</td>\n",
       "      <td>0.088542</td>\n",
       "      <td>0.097222</td>\n",
       "      <td>0.061434</td>\n",
       "      <td>1031788800</td>\n",
       "    </tr>\n",
       "    <tr>\n",
       "      <th>1</th>\n",
       "      <td>1986-03-14</td>\n",
       "      <td>0.097222</td>\n",
       "      <td>0.102431</td>\n",
       "      <td>0.097222</td>\n",
       "      <td>0.100694</td>\n",
       "      <td>0.063628</td>\n",
       "      <td>308160000</td>\n",
       "    </tr>\n",
       "    <tr>\n",
       "      <th>2</th>\n",
       "      <td>1986-03-17</td>\n",
       "      <td>0.100694</td>\n",
       "      <td>0.103299</td>\n",
       "      <td>0.100694</td>\n",
       "      <td>0.102431</td>\n",
       "      <td>0.064725</td>\n",
       "      <td>133171200</td>\n",
       "    </tr>\n",
       "    <tr>\n",
       "      <th>3</th>\n",
       "      <td>1986-03-18</td>\n",
       "      <td>0.102431</td>\n",
       "      <td>0.103299</td>\n",
       "      <td>0.098958</td>\n",
       "      <td>0.099826</td>\n",
       "      <td>0.063079</td>\n",
       "      <td>67766400</td>\n",
       "    </tr>\n",
       "    <tr>\n",
       "      <th>4</th>\n",
       "      <td>1986-03-19</td>\n",
       "      <td>0.099826</td>\n",
       "      <td>0.100694</td>\n",
       "      <td>0.097222</td>\n",
       "      <td>0.098090</td>\n",
       "      <td>0.061982</td>\n",
       "      <td>47894400</td>\n",
       "    </tr>\n",
       "  </tbody>\n",
       "</table>\n",
       "</div>"
      ],
      "text/plain": [
       "         Date      Open      High       Low     Close  Adj Close      Volume\n",
       "0  1986-03-13  0.088542  0.101563  0.088542  0.097222   0.061434  1031788800\n",
       "1  1986-03-14  0.097222  0.102431  0.097222  0.100694   0.063628   308160000\n",
       "2  1986-03-17  0.100694  0.103299  0.100694  0.102431   0.064725   133171200\n",
       "3  1986-03-18  0.102431  0.103299  0.098958  0.099826   0.063079    67766400\n",
       "4  1986-03-19  0.099826  0.100694  0.097222  0.098090   0.061982    47894400"
      ]
     },
     "execution_count": 8,
     "metadata": {},
     "output_type": "execute_result"
    }
   ],
   "source": [
    "#Get the Dataset\n",
    "df=pd.read_csv('MSFT.csv',na_values=['null'],parse_dates=True,infer_datetime_format=True)\n",
    "df.head()"
   ]
  },
  {
   "cell_type": "code",
   "execution_count": 10,
   "metadata": {},
   "outputs": [
    {
     "name": "stdout",
     "output_type": "stream",
     "text": [
      "Dataframe Shape:  (9083, 7)\n",
      "Null Value Present:  False\n"
     ]
    }
   ],
   "source": [
    "#Print the shape of Dataframe  and Check for Null Values\n",
    "print(\"Dataframe Shape: \", df. shape)\n",
    "print(\"Null Value Present: \", df.isnull().values.any())"
   ]
  },
  {
   "cell_type": "code",
   "execution_count": 12,
   "metadata": {},
   "outputs": [
    {
     "data": {
      "text/plain": [
       "<AxesSubplot: >"
      ]
     },
     "execution_count": 12,
     "metadata": {},
     "output_type": "execute_result"
    },
    {
     "data": {
      "image/png": "[encoded data removed]",
      "text/plain": [
       "<Figure size 640x480 with 1 Axes>"
      ]
     },
     "metadata": {},
     "output_type": "display_data"
    }
   ],
   "source": [
    "#Plot the True Adj Close Value\n",
    "df['Adj Close'].plot()"
   ]
  },
  {
   "cell_type": "markdown",
   "metadata": {},
   "source": [
    "The Adjusted Close Value is the final output value that will be forecasted using the Machine Learning model. This figure indicates the stock’s closing price on that particular day of stock market trading."
   ]
  },
  {
   "cell_type": "code",
   "execution_count": 14,
   "metadata": {},
   "outputs": [],
   "source": [
    "#Set Target Variable\n",
    "output_var = pd.DataFrame(df['Adj Close'])\n",
    "#Selecting the Features\n",
    "features = ['Open', 'High', 'Low', 'Volume']"
   ]
  },
  {
   "cell_type": "markdown",
   "metadata": {},
   "source": [
    "## Feature Scaling"
   ]
  },
  {
   "cell_type": "code",
   "execution_count": 15,
   "metadata": {},
   "outputs": [
    {
     "data": {
      "text/html": [
       "<div>\n",
       "<style scoped>\n",
       "    .dataframe tbody tr th:only-of-type {\n",
       "        vertical-align: middle;\n",
       "    }\n",
       "\n",
       "    .dataframe tbody tr th {\n",
       "        vertical-align: top;\n",
       "    }\n",
       "\n",
       "    .dataframe thead th {\n",
       "        text-align: right;\n",
       "    }\n",
       "</style>\n",
       "<table border=\"1\" class=\"dataframe\">\n",
       "  <thead>\n",
       "    <tr style=\"text-align: right;\">\n",
       "      <th></th>\n",
       "      <th>Open</th>\n",
       "      <th>High</th>\n",
       "      <th>Low</th>\n",
       "      <th>Volume</th>\n",
       "    </tr>\n",
       "  </thead>\n",
       "  <tbody>\n",
       "    <tr>\n",
       "      <th>0</th>\n",
       "      <td>0.000000</td>\n",
       "      <td>0.000027</td>\n",
       "      <td>0.000000</td>\n",
       "      <td>1.000000</td>\n",
       "    </tr>\n",
       "    <tr>\n",
       "      <th>1</th>\n",
       "      <td>0.000025</td>\n",
       "      <td>0.000030</td>\n",
       "      <td>0.000025</td>\n",
       "      <td>0.297096</td>\n",
       "    </tr>\n",
       "    <tr>\n",
       "      <th>2</th>\n",
       "      <td>0.000035</td>\n",
       "      <td>0.000032</td>\n",
       "      <td>0.000036</td>\n",
       "      <td>0.127119</td>\n",
       "    </tr>\n",
       "    <tr>\n",
       "      <th>3</th>\n",
       "      <td>0.000040</td>\n",
       "      <td>0.000032</td>\n",
       "      <td>0.000030</td>\n",
       "      <td>0.063588</td>\n",
       "    </tr>\n",
       "    <tr>\n",
       "      <th>4</th>\n",
       "      <td>0.000033</td>\n",
       "      <td>0.000025</td>\n",
       "      <td>0.000025</td>\n",
       "      <td>0.044285</td>\n",
       "    </tr>\n",
       "  </tbody>\n",
       "</table>\n",
       "</div>"
      ],
      "text/plain": [
       "       Open      High       Low    Volume\n",
       "0  0.000000  0.000027  0.000000  1.000000\n",
       "1  0.000025  0.000030  0.000025  0.297096\n",
       "2  0.000035  0.000032  0.000036  0.127119\n",
       "3  0.000040  0.000032  0.000030  0.063588\n",
       "4  0.000033  0.000025  0.000025  0.044285"
      ]
     },
     "execution_count": 15,
     "metadata": {},
     "output_type": "execute_result"
    }
   ],
   "source": [
    "scaler = MinMaxScaler()\n",
    "feature_transform = scaler.fit_transform(df[features])\n",
    "feature_transform= pd.DataFrame(columns=features, data=feature_transform, index=df.index)\n",
    "feature_transform.head()"
   ]
  },
  {
   "cell_type": "code",
   "execution_count": 16,
   "metadata": {},
   "outputs": [],
   "source": [
    "#Splitting to Training set and Test set\n",
    "timesplit= TimeSeriesSplit(n_splits=10)\n",
    "for train_index, test_index in timesplit.split(feature_transform):\n",
    "        X_train, X_test = feature_transform[:len(train_index)], feature_transform[len(train_index): (len(train_index)+len(test_index))]\n",
    "        y_train, y_test = output_var[:len(train_index)].values.ravel(), output_var[len(train_index): (len(train_index)+len(test_index))].values.ravel()"
   ]
  },
  {
   "cell_type": "markdown",
   "metadata": {},
   "source": [
    "The sci-kit-learn library’s TimeSeriesSplit class will be used for this.The advantage of utilizing this Time Series split is that the split time series data samples are examined at regular time intervals."
   ]
  },
  {
   "cell_type": "code",
   "execution_count": 17,
   "metadata": {},
   "outputs": [],
   "source": [
    "#Process the data for LSTM\n",
    "trainX =np.array(X_train)\n",
    "testX =np.array(X_test)\n",
    "X_train = trainX.reshape(X_train.shape[0], 1, X_train.shape[1])\n",
    "X_test = testX.reshape(X_test.shape[0], 1, X_test.shape[1])"
   ]
  },
  {
   "cell_type": "markdown",
   "metadata": {},
   "source": [
    "As the LSTM needs that the data to be provided in the 3D form, we first transform the training and test data to NumPy arrays and then restructure them to match the format (Number of Samples, 1, Number of Features). "
   ]
  },
  {
   "cell_type": "markdown",
   "metadata": {},
   "source": [
    "## Building the LSTM Model for Stock Market Prediction"
   ]
  },
  {
   "cell_type": "code",
   "execution_count": 26,
   "metadata": {},
   "outputs": [
    {
     "name": "stdout",
     "output_type": "stream",
     "text": [
      "You must install pydot (`pip install pydot`) and install graphviz (see instructions at https://graphviz.gitlab.io/download/) for plot_model to work.\n"
     ]
    }
   ],
   "source": [
    "#Building the LSTM Model\n",
    "lstm = Sequential()\n",
    "lstm.add(LSTM(32, input_shape=(1, trainX.shape[1]), activation='relu', return_sequences=False))\n",
    "lstm.add(Dense(1))\n",
    "lstm.compile(loss='mean_squared_error', optimizer='adam')\n",
    "plot_model(lstm, show_shapes=True, show_layer_names=True)"
   ]
  },
  {
   "cell_type": "markdown",
   "metadata": {},
   "source": [
    "Finally, we arrive at the point when we construct the LSTM Model. In this step, we’ll build a Sequential Keras model with one LSTM layer. The LSTM layer has 32 units and is followed by one Dense Layer of one neuron.\n",
    "\n",
    "We compile the model using Adam Optimizer and the Mean Squared Error as the loss function. For an LSTM model, this is the most preferred combination. "
   ]
  },
  {
   "cell_type": "code",
   "execution_count": 20,
   "metadata": {},
   "outputs": [
    {
     "name": "stdout",
     "output_type": "stream",
     "text": [
      "Epoch 1/100\n",
      "1033/1033 [==============================] - 5s 2ms/step - loss: 26.1632\n",
      "Epoch 2/100\n",
      "1033/1033 [==============================] - 2s 2ms/step - loss: 192.2296\n",
      "Epoch 3/100\n",
      "1033/1033 [==============================] - 2s 2ms/step - loss: 92.6155\n",
      "Epoch 4/100\n",
      "1033/1033 [==============================] - 2s 2ms/step - loss: 41.5010\n",
      "Epoch 5/100\n",
      "1033/1033 [==============================] - 2s 2ms/step - loss: 14.9276\n",
      "Epoch 6/100\n",
      "1033/1033 [==============================] - 2s 2ms/step - loss: 4.6514\n",
      "Epoch 7/100\n",
      "1033/1033 [==============================] - 2s 2ms/step - loss: 1.9796\n",
      "Epoch 8/100\n",
      "1033/1033 [==============================] - 2s 2ms/step - loss: 1.2281\n",
      "Epoch 9/100\n",
      "1033/1033 [==============================] - 2s 2ms/step - loss: 0.8897\n",
      "Epoch 10/100\n",
      "1033/1033 [==============================] - 2s 2ms/step - loss: 0.7107\n",
      "Epoch 11/100\n",
      "1033/1033 [==============================] - 2s 2ms/step - loss: 0.6236\n",
      "Epoch 12/100\n",
      "1033/1033 [==============================] - 2s 2ms/step - loss: 0.5857\n",
      "Epoch 13/100\n",
      "1033/1033 [==============================] - 2s 2ms/step - loss: 0.5701\n",
      "Epoch 14/100\n",
      "1033/1033 [==============================] - 2s 2ms/step - loss: 0.5639\n",
      "Epoch 15/100\n",
      "1033/1033 [==============================] - 2s 2ms/step - loss: 0.5616\n",
      "Epoch 16/100\n",
      "1033/1033 [==============================] - 2s 2ms/step - loss: 0.5610\n",
      "Epoch 17/100\n",
      "1033/1033 [==============================] - 2s 2ms/step - loss: 0.5613\n",
      "Epoch 18/100\n",
      "1033/1033 [==============================] - 2s 2ms/step - loss: 0.5620\n",
      "Epoch 19/100\n",
      "1033/1033 [==============================] - 2s 2ms/step - loss: 0.5630\n",
      "Epoch 20/100\n",
      "1033/1033 [==============================] - 2s 2ms/step - loss: 0.5642\n",
      "Epoch 21/100\n",
      "1033/1033 [==============================] - 3s 3ms/step - loss: 0.5655\n",
      "Epoch 22/100\n",
      "1033/1033 [==============================] - 3s 3ms/step - loss: 0.5670\n",
      "Epoch 23/100\n",
      "1033/1033 [==============================] - 4s 4ms/step - loss: 0.5686\n",
      "Epoch 24/100\n",
      "1033/1033 [==============================] - 4s 4ms/step - loss: 0.5703\n",
      "Epoch 25/100\n",
      "1033/1033 [==============================] - 4s 4ms/step - loss: 0.5721\n",
      "Epoch 26/100\n",
      "1033/1033 [==============================] - 4s 3ms/step - loss: 0.5740\n",
      "Epoch 27/100\n",
      "1033/1033 [==============================] - 2s 2ms/step - loss: 0.5760\n",
      "Epoch 28/100\n",
      "1033/1033 [==============================] - 2s 2ms/step - loss: 0.5780\n",
      "Epoch 29/100\n",
      "1033/1033 [==============================] - 2s 2ms/step - loss: 0.5802\n",
      "Epoch 30/100\n",
      "1033/1033 [==============================] - 3s 2ms/step - loss: 0.5823\n",
      "Epoch 31/100\n",
      "1033/1033 [==============================] - 3s 3ms/step - loss: 0.5846\n",
      "Epoch 32/100\n",
      "1033/1033 [==============================] - 3s 3ms/step - loss: 0.5869\n",
      "Epoch 33/100\n",
      "1033/1033 [==============================] - 4s 4ms/step - loss: 0.5892\n",
      "Epoch 34/100\n",
      "1033/1033 [==============================] - 5s 4ms/step - loss: 0.5915\n",
      "Epoch 35/100\n",
      "1033/1033 [==============================] - 3s 3ms/step - loss: 0.5939\n",
      "Epoch 36/100\n",
      "1033/1033 [==============================] - 2s 2ms/step - loss: 0.5963\n",
      "Epoch 37/100\n",
      "1033/1033 [==============================] - 2s 2ms/step - loss: 0.5987\n",
      "Epoch 38/100\n",
      "1033/1033 [==============================] - 2s 2ms/step - loss: 0.6011\n",
      "Epoch 39/100\n",
      "1033/1033 [==============================] - 2s 2ms/step - loss: 0.6035\n",
      "Epoch 40/100\n",
      "1033/1033 [==============================] - 2s 2ms/step - loss: 0.6060\n",
      "Epoch 41/100\n",
      "1033/1033 [==============================] - 2s 2ms/step - loss: 0.6084\n",
      "Epoch 42/100\n",
      "1033/1033 [==============================] - 2s 2ms/step - loss: 0.6108\n",
      "Epoch 43/100\n",
      "1033/1033 [==============================] - 2s 2ms/step - loss: 0.6132\n",
      "Epoch 44/100\n",
      "1033/1033 [==============================] - 2s 2ms/step - loss: 0.6156\n",
      "Epoch 45/100\n",
      "1033/1033 [==============================] - 2s 2ms/step - loss: 0.6180\n",
      "Epoch 46/100\n",
      "1033/1033 [==============================] - 2s 2ms/step - loss: 0.6203\n",
      "Epoch 47/100\n",
      "1033/1033 [==============================] - 2s 2ms/step - loss: 0.6226\n",
      "Epoch 48/100\n",
      "1033/1033 [==============================] - 2s 2ms/step - loss: 0.6249\n",
      "Epoch 49/100\n",
      "1033/1033 [==============================] - 3s 3ms/step - loss: 0.6272\n",
      "Epoch 50/100\n",
      "1033/1033 [==============================] - 3s 2ms/step - loss: 0.6295\n",
      "Epoch 51/100\n",
      "1033/1033 [==============================] - 4s 4ms/step - loss: 0.6317\n",
      "Epoch 52/100\n",
      "1033/1033 [==============================] - 4s 4ms/step - loss: 0.6339\n",
      "Epoch 53/100\n",
      "1033/1033 [==============================] - 4s 4ms/step - loss: 0.6361\n",
      "Epoch 54/100\n",
      "1033/1033 [==============================] - 5s 5ms/step - loss: 0.6383\n",
      "Epoch 55/100\n",
      "1033/1033 [==============================] - 4s 3ms/step - loss: 0.6404\n",
      "Epoch 56/100\n",
      "1033/1033 [==============================] - 2s 2ms/step - loss: 0.6425\n",
      "Epoch 57/100\n",
      "1033/1033 [==============================] - 2s 2ms/step - loss: 0.6446\n",
      "Epoch 58/100\n",
      "1033/1033 [==============================] - 2s 2ms/step - loss: 0.6466\n",
      "Epoch 59/100\n",
      "1033/1033 [==============================] - 2s 2ms/step - loss: 0.6487\n",
      "Epoch 60/100\n",
      "1033/1033 [==============================] - 2s 2ms/step - loss: 0.6507\n",
      "Epoch 61/100\n",
      "1033/1033 [==============================] - 2s 2ms/step - loss: 0.6526\n",
      "Epoch 62/100\n",
      "1033/1033 [==============================] - 2s 2ms/step - loss: 0.6545\n",
      "Epoch 63/100\n",
      "1033/1033 [==============================] - 2s 2ms/step - loss: 0.6564\n",
      "Epoch 64/100\n",
      "1033/1033 [==============================] - 2s 2ms/step - loss: 0.6583\n",
      "Epoch 65/100\n",
      "1033/1033 [==============================] - 3s 3ms/step - loss: 0.6601\n",
      "Epoch 66/100\n",
      "1033/1033 [==============================] - 3s 3ms/step - loss: 0.6619\n",
      "Epoch 67/100\n",
      "1033/1033 [==============================] - 4s 4ms/step - loss: 0.6636\n",
      "Epoch 68/100\n",
      "1033/1033 [==============================] - 5s 4ms/step - loss: 0.6653\n",
      "Epoch 69/100\n",
      "1033/1033 [==============================] - 2s 2ms/step - loss: 0.6669\n",
      "Epoch 70/100\n",
      "1033/1033 [==============================] - 2s 2ms/step - loss: 0.6686\n",
      "Epoch 71/100\n",
      "1033/1033 [==============================] - 2s 2ms/step - loss: 0.6702\n",
      "Epoch 72/100\n",
      "1033/1033 [==============================] - 2s 2ms/step - loss: 0.6717\n",
      "Epoch 73/100\n",
      "1033/1033 [==============================] - 2s 2ms/step - loss: 0.6733\n",
      "Epoch 74/100\n",
      "1033/1033 [==============================] - 2s 2ms/step - loss: 0.6748\n",
      "Epoch 75/100\n",
      "1033/1033 [==============================] - 2s 2ms/step - loss: 0.6763\n",
      "Epoch 76/100\n",
      "1033/1033 [==============================] - 2s 2ms/step - loss: 0.6778\n",
      "Epoch 77/100\n",
      "1033/1033 [==============================] - 2s 2ms/step - loss: 0.6792\n",
      "Epoch 78/100\n",
      "1033/1033 [==============================] - 2s 2ms/step - loss: 0.6807\n",
      "Epoch 79/100\n",
      "1033/1033 [==============================] - 2s 2ms/step - loss: 0.6820\n",
      "Epoch 80/100\n",
      "1033/1033 [==============================] - 2s 2ms/step - loss: 0.6834\n",
      "Epoch 81/100\n",
      "1033/1033 [==============================] - 2s 2ms/step - loss: 0.6848\n",
      "Epoch 82/100\n",
      "1033/1033 [==============================] - 2s 2ms/step - loss: 0.6861\n",
      "Epoch 83/100\n",
      "1033/1033 [==============================] - 2s 2ms/step - loss: 0.6874\n",
      "Epoch 84/100\n",
      "1033/1033 [==============================] - 2s 2ms/step - loss: 0.6887\n",
      "Epoch 85/100\n",
      "1033/1033 [==============================] - 2s 2ms/step - loss: 0.6899\n",
      "Epoch 86/100\n",
      "1033/1033 [==============================] - 2s 2ms/step - loss: 0.6911\n",
      "Epoch 87/100\n",
      "1033/1033 [==============================] - 2s 2ms/step - loss: 0.6924\n",
      "Epoch 88/100\n",
      "1033/1033 [==============================] - 2s 2ms/step - loss: 0.6936\n",
      "Epoch 89/100\n",
      "1033/1033 [==============================] - 2s 2ms/step - loss: 0.6948\n",
      "Epoch 90/100\n",
      "1033/1033 [==============================] - 2s 2ms/step - loss: 0.6959\n",
      "Epoch 91/100\n",
      "1033/1033 [==============================] - 2s 2ms/step - loss: 0.6971\n",
      "Epoch 92/100\n",
      "1033/1033 [==============================] - 2s 2ms/step - loss: 0.6982\n",
      "Epoch 93/100\n",
      "1033/1033 [==============================] - 2s 2ms/step - loss: 0.6993\n",
      "Epoch 94/100\n",
      "1033/1033 [==============================] - 2s 2ms/step - loss: 0.7004\n",
      "Epoch 95/100\n",
      "1033/1033 [==============================] - 2s 2ms/step - loss: 0.7015\n",
      "Epoch 96/100\n",
      "1033/1033 [==============================] - 2s 2ms/step - loss: 0.7026\n",
      "Epoch 97/100\n",
      "1033/1033 [==============================] - 3s 3ms/step - loss: 0.7037\n",
      "Epoch 98/100\n",
      "1033/1033 [==============================] - 4s 4ms/step - loss: 0.7047\n",
      "Epoch 99/100\n",
      "1033/1033 [==============================] - 3s 3ms/step - loss: 0.7057\n",
      "Epoch 100/100\n",
      "1033/1033 [==============================] - 2s 2ms/step - loss: 0.7068\n"
     ]
    }
   ],
   "source": [
    "history=lstm.fit(X_train, y_train, epochs=100, batch_size=8, verbose=1, shuffle=False)"
   ]
  },
  {
   "cell_type": "markdown",
   "metadata": {},
   "source": [
    "## LSTM Prediction"
   ]
  },
  {
   "cell_type": "code",
   "execution_count": 21,
   "metadata": {},
   "outputs": [
    {
     "name": "stdout",
     "output_type": "stream",
     "text": [
      "26/26 [==============================] - 0s 1ms/step\n"
     ]
    }
   ],
   "source": [
    "y_pred= lstm.predict(X_test)"
   ]
  },
  {
   "cell_type": "code",
   "execution_count": 22,
   "metadata": {},
   "outputs": [
    {
     "data": {
      "image/png": "[encoded data removed]",
      "text/plain": [
       "<Figure size 640x480 with 1 Axes>"
      ]
     },
     "metadata": {},
     "output_type": "display_data"
    }
   ],
   "source": [
    "#Predicted vs True Adj Close Value – LSTM\n",
    "plt.plot(y_test, label='True Value')\n",
    "plt.plot(y_pred, label='LSTM Value')\n",
    "plt.title(\"Prediction by LSTM\")\n",
    "plt.xlabel('Time Scale')\n",
    "plt.ylabel('Scaled USD')\n",
    "plt.legend()\n",
    "plt.show()"
   ]
  },
  {
   "cell_type": "markdown",
   "metadata": {},
   "source": [
    "The graph above demonstrates that the extremely basic single LSTM network model created above detects some patterns. We may get a more accurate depiction of every specific company’s stock value by fine-tuning many parameters and adding more LSTM layers to the model."
   ]
  }
 ],
 "metadata": {
  "kernelspec": {
   "display_name": "Python 3",
   "language": "python",
   "name": "python3"
  },
  "language_info": {
   "codemirror_mode": {
    "name": "ipython",
    "version": 3
   },
   "file_extension": ".py",
   "mimetype": "text/x-python",
   "name": "python",
   "nbconvert_exporter": "python",
   "pygments_lexer": "ipython3",
   "version": "3.11.4"
  },
  "orig_nbformat": 4
 },
 "nbformat": 4,
 "nbformat_minor": 2
}
